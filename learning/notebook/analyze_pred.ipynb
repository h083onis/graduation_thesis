{
 "cells": [
  {
   "cell_type": "code",
   "execution_count": null,
   "metadata": {},
   "outputs": [],
   "source": [
    "project = 'openstack'\n",
    "type = 'test'\n",
    "is_its = 'in_its'"
   ]
  },
  {
   "cell_type": "code",
   "execution_count": 3,
   "metadata": {},
   "outputs": [],
   "source": [
    "import pickle\n",
    "from sklearn.metrics import roc_auc_score, log_loss, recall_score, precision_score, f1_score\n",
    "with open('../pred/'+is_its+'/openstack-lgb-random-test.pkl', 'rb') as f_lgb, open('../pred/'+is_its+'/openstack-code_cnn-random-test.pkl', 'rb') as f_cnn, \\\n",
    "    open('../pred/'+is_its+'/openstack-msg_tf-random-test.pkl','rb') as f_tf:\n",
    "    lgb_test = pickle.load(f_lgb)\n",
    "    cnn_test = pickle.load(f_cnn)\n",
    "    tf_test = pickle.load(f_tf)\n",
    "with open('../resource/openstack_test.pkl', 'rb') as f:\n",
    "    test_data = pickle.load(f)\n"
   ]
  },
  {
   "cell_type": "code",
   "execution_count": 7,
   "metadata": {},
   "outputs": [
    {
     "name": "stdout",
     "output_type": "stream",
     "text": [
      "auc: 0.799\n",
      "log_loss: 0.625\n",
      "recall: 0.759\n",
      "precision: 0.290\n",
      "f1: 0.420\n"
     ]
    }
   ],
   "source": [
    "print(f'auc: {roc_auc_score(test_data[5], cnn_test):.3f}')\n",
    "print(f'log_loss: {log_loss(test_data[5], cnn_test):.3f}')\n",
    "answer = [1 if prob >= 0.5 else 0 for prob in cnn_test]\n",
    "recall = recall_score(test_data[5], answer)\n",
    "print(f'recall: {recall:.3f}')\n",
    "precision = precision_score(test_data[5], answer)\n",
    "print(f'precision: {precision:.3f}')\n",
    "f1 = f1_score(test_data[5], answer)\n",
    "print(f'f1: {f1:.3f}')"
   ]
  },
  {
   "cell_type": "code",
   "execution_count": 9,
   "metadata": {},
   "outputs": [
    {
     "name": "stdout",
     "output_type": "stream",
     "text": [
      "lgb:auc_score 0.781, log_loss 0.560\n",
      "cnn:auc_score 0.796, log_loss 0.515\n",
      "tf:auc_score 0.709, log_loss 0.445\n"
     ]
    }
   ],
   "source": [
    "print(f'lgb:auc_score {roc_auc_score(test_data[5], lgb_test):.3f}, log_loss {log_loss(test_data[5],lgb_test):.3f}' )\n",
    "print(f'cnn:auc_score {roc_auc_score(test_data[5], cnn_test):.3f}, log_loss {log_loss(test_data[5],cnn_test):.3f}')\n",
    "print(f'tf:auc_score {roc_auc_score(test_data[5], tf_test):.3f}, log_loss {log_loss(test_data[5],tf_test):.3f}')"
   ]
  },
  {
   "cell_type": "code",
   "execution_count": 4,
   "metadata": {},
   "outputs": [],
   "source": [
    "import pickle\n",
    "from sklearn.metrics import roc_auc_score, log_loss\n",
    "with open('../pred/'+is_its+'/qt-lgb-random-test.pkl', 'rb') as f_lgb, open('../pred/'+is_its+'/qt-code_cnn-random-test.pkl', 'rb') as f_cnn, \\\n",
    "    open('../pred/'+is_its+'/qt-msg_tf-random-test.pkl','rb') as f_tf:\n",
    "    lgb_test = pickle.load(f_lgb)\n",
    "    cnn_test = pickle.load(f_cnn)\n",
    "    tf_test = pickle.load(f_tf)\n",
    "with open('../resource/qt_test.pkl', 'rb') as f:\n",
    "    test_data = pickle.load(f)"
   ]
  },
  {
   "cell_type": "code",
   "execution_count": 5,
   "metadata": {},
   "outputs": [
    {
     "name": "stdout",
     "output_type": "stream",
     "text": [
      "lgb:auc_score 0.801, log_loss 0.458\n",
      "cnn:auc_score 0.746, log_loss 0.638\n",
      "tf:auc_score 0.605, log_loss 0.385\n"
     ]
    }
   ],
   "source": [
    "print(f'lgb:auc_score {roc_auc_score(test_data[5], lgb_test):.3f}, log_loss {log_loss(test_data[5],lgb_test):.3f}' )\n",
    "print(f'cnn:auc_score {roc_auc_score(test_data[5], cnn_test):.3f}, log_loss {log_loss(test_data[5],cnn_test):.3f}')\n",
    "print(f'tf:auc_score {roc_auc_score(test_data[5], tf_test):.3f}, log_loss {log_loss(test_data[5],tf_test):.3f}')"
   ]
  },
  {
   "cell_type": "code",
   "execution_count": 7,
   "metadata": {},
   "outputs": [
    {
     "name": "stdout",
     "output_type": "stream",
     "text": [
      "lgb:auc_score 0.801, log_loss 0.458\n"
     ]
    }
   ],
   "source": [
    "import pickle\n",
    "from sklearn.metrics import roc_auc_score, log_loss\n",
    "with open('../pred/in_its/qt-lgb-random-test.pkl', 'rb') as f_lgb:\n",
    "    lgb = pickle.load(f_lgb)\n",
    "\n",
    "with open('../resource/qt_test.pkl', 'rb') as f:\n",
    "    test_data = pickle.load(f)\n",
    "print(f'lgb:auc_score {roc_auc_score(test_data[5], lgb):.3f}, log_loss {log_loss(test_data[5],lgb):.3f}' )"
   ]
  },
  {
   "cell_type": "code",
   "execution_count": 6,
   "metadata": {},
   "outputs": [
    {
     "name": "stdout",
     "output_type": "stream",
     "text": [
      "lgb:auc_score 0.794, log_loss 0.596\n"
     ]
    }
   ],
   "source": [
    "import pickle\n",
    "from sklearn.metrics import roc_auc_score, log_loss\n",
    "with open('../pred/in_its/openstack-lgb-random-test.pkl', 'rb') as f_lgb:\n",
    "    lgb = pickle.load(f_lgb)\n",
    "\n",
    "with open('../resource/openstack_test.pkl', 'rb') as f:\n",
    "    test_data = pickle.load(f)\n",
    "print(f'lgb:auc_score {roc_auc_score(test_data[5], lgb):.3f}, log_loss {log_loss(test_data[5],lgb):.3f}' )"
   ]
  }
 ],
 "metadata": {
  "kernelspec": {
   "display_name": "test",
   "language": "python",
   "name": "python3"
  },
  "language_info": {
   "codemirror_mode": {
    "name": "ipython",
    "version": 3
   },
   "file_extension": ".py",
   "mimetype": "text/x-python",
   "name": "python",
   "nbconvert_exporter": "python",
   "pygments_lexer": "ipython3",
   "version": "3.9.16"
  }
 },
 "nbformat": 4,
 "nbformat_minor": 2
}
